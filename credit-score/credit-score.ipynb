{
 "cells": [
  {
   "cell_type": "code",
   "execution_count": null,
   "metadata": {},
   "outputs": [],
   "source": [
    "import pandas as pd\n",
    "import matplotlib.pyplot as plt\n",
    "import numpy as np"
   ]
  },
  {
   "cell_type": "code",
   "execution_count": null,
   "metadata": {},
   "outputs": [],
   "source": [
    "!mkdir data\n",
    "%pip install kaggle\n",
    "!cd data\n",
    "!kaggle datasets download -d parisrohan/credit-score-classification\n",
    "!unzip -f credit-score-classification.zip"
   ]
  },
  {
   "cell_type": "code",
   "execution_count": null,
   "metadata": {},
   "outputs": [],
   "source": [
    "train_df = pd.read_csv(\"data/train.csv\", decimal=\".\", engine=\"python\")\n",
    "test_df = pd.read_csv(\"data/test.csv\", decimal=\".\", engine=\"python\")\n",
    "train_df"
   ]
  },
  {
   "cell_type": "markdown",
   "metadata": {},
   "source": [
    "# EDA"
   ]
  },
  {
   "cell_type": "markdown",
   "metadata": {},
   "source": [
    "Getting just a base information about our dataset (types of columns, how much NaNs we have etc)"
   ]
  },
  {
   "cell_type": "code",
   "execution_count": null,
   "metadata": {},
   "outputs": [],
   "source": [
    "train_df.info()"
   ]
  },
  {
   "cell_type": "markdown",
   "metadata": {},
   "source": [
    "It seems that lots of numeric features were not casted to correct data type. Because of that, we need manually cast following columns to right type:"
   ]
  },
  {
   "cell_type": "code",
   "execution_count": null,
   "metadata": {},
   "outputs": [],
   "source": [
    "problem_columns_float = [\n",
    "    \"Annual_Income\",\n",
    "    \"Changed_Credit_Limit\",\n",
    "    \"Outstanding_Debt\",\n",
    "    \"Total_EMI_per_month\",\n",
    "    \"Amount_invested_monthly\",\n",
    "    \"Monthly_Balance\",\n",
    "]\n",
    "train_df[problem_columns_float]"
   ]
  },
  {
   "cell_type": "code",
   "execution_count": null,
   "metadata": {},
   "outputs": [],
   "source": [
    "train_df[problem_columns_float] = train_df[problem_columns_float].apply(\n",
    "    pd.to_numeric, errors=\"coerce\"\n",
    ")\n",
    "train_df[problem_columns_float] = train_df[problem_columns_float].astype(\"float64\")\n",
    "train_df[problem_columns_float].fillna(\n",
    "    value=train_df[problem_columns_float].median(),\n",
    "    inplace=True,\n",
    ")\n",
    "train_df[problem_columns_float]"
   ]
  },
  {
   "cell_type": "code",
   "execution_count": null,
   "metadata": {},
   "outputs": [],
   "source": [
    "problem_columns_int = [\"Num_of_Loan\", \"Num_of_Delayed_Payment\", \"Age\"]\n",
    "train_df[problem_columns_int]"
   ]
  },
  {
   "cell_type": "code",
   "execution_count": null,
   "metadata": {},
   "outputs": [],
   "source": [
    "train_df[problem_columns_int] = train_df[problem_columns_int].apply(\n",
    "    pd.to_numeric, errors=\"coerce\"\n",
    ")\n",
    "train_df[problem_columns_int] = train_df[problem_columns_int].astype(pd.Int32Dtype())\n",
    "train_df[problem_columns_int].fillna(\n",
    "    value=train_df[problem_columns_int].median(), inplace=True\n",
    ")"
   ]
  },
  {
   "cell_type": "code",
   "execution_count": null,
   "metadata": {},
   "outputs": [],
   "source": [
    "train_df[[\"Num_of_Loan\", \"Num_of_Delayed_Payment\"]]"
   ]
  },
  {
   "cell_type": "markdown",
   "metadata": {},
   "source": [
    "Prepare separate variables for different column types:"
   ]
  },
  {
   "cell_type": "code",
   "execution_count": null,
   "metadata": {},
   "outputs": [],
   "source": [
    "number_columns = train_df.select_dtypes(\"number\").columns\n",
    "categorical_columns = train_df.select_dtypes(\"object\").columns.drop(\"Credit_Score\")\n",
    "feature_columns = categorical_columns.union(number_columns)\n",
    "target_column = \"Credit_Score\"\n",
    "number_columns, categorical_columns"
   ]
  },
  {
   "cell_type": "markdown",
   "metadata": {},
   "source": [
    "Finding nulls in data:"
   ]
  },
  {
   "cell_type": "code",
   "execution_count": null,
   "metadata": {},
   "outputs": [],
   "source": [
    "train_df.isnull().sum()"
   ]
  },
  {
   "cell_type": "markdown",
   "metadata": {},
   "source": [
    "`Name` column is not important (as ID columns), so we can drop them. Let's create auxillary function to delete column from Index variable and from Dataframe:"
   ]
  },
  {
   "cell_type": "code",
   "execution_count": null,
   "metadata": {},
   "outputs": [],
   "source": [
    "def delete_col(cols):\n",
    "    global train_df, categorical_columns, number_columns\n",
    "    train_df.drop(columns=cols, inplace=True)\n",
    "\n",
    "    for col in cols:\n",
    "        if col in categorical_columns:\n",
    "            categorical_columns = categorical_columns.drop(col)\n",
    "        else:\n",
    "            number_columns = number_columns.drop(col)\n",
    "\n",
    "\n",
    "delete_col([\"Name\", \"ID\", \"Customer_ID\", \"SSN\"])"
   ]
  },
  {
   "cell_type": "markdown",
   "metadata": {},
   "source": [
    "Although usage of `global` is not recommended, in this case it is okay."
   ]
  },
  {
   "cell_type": "code",
   "execution_count": null,
   "metadata": {},
   "outputs": [],
   "source": [
    "train_df[\"Credit_History_Age\"].value_counts()"
   ]
  },
  {
   "cell_type": "markdown",
   "metadata": {},
   "source": [
    "## `Credit_History_Age`"
   ]
  },
  {
   "cell_type": "code",
   "execution_count": null,
   "metadata": {},
   "outputs": [],
   "source": [
    "train_df[\"Credit_History_Age\"]"
   ]
  },
  {
   "cell_type": "markdown",
   "metadata": {},
   "source": [
    "Better to transform this column to Datetime, so One-Hot Encoding will not create an abnormal amount of columns."
   ]
  },
  {
   "cell_type": "code",
   "execution_count": null,
   "metadata": {},
   "outputs": [],
   "source": [
    "split_credit_history = train_df[\"Credit_History_Age\"].str.extract(\n",
    "    r\"(\\d+)\\sYears\\sand\\s(\\d+)\\sMonths\"\n",
    ")\n",
    "\n",
    "total_months = split_credit_history[0].astype(\n",
    "    pd.Int32Dtype()\n",
    ") * 12 + split_credit_history[1].astype(pd.Int32Dtype())\n",
    "\n",
    "train_df[\"Credit_History_Age\"] = total_months\n",
    "total_months"
   ]
  },
  {
   "cell_type": "markdown",
   "metadata": {},
   "source": [
    "## `Type_of_Loan`"
   ]
  },
  {
   "cell_type": "code",
   "execution_count": null,
   "metadata": {},
   "outputs": [],
   "source": [
    "train_df[\"Type_of_Loan\"].value_counts().head(20)"
   ]
  },
  {
   "cell_type": "code",
   "execution_count": null,
   "metadata": {},
   "outputs": [],
   "source": [
    "loan_types = [\n",
    "    \"Not Specified\",\n",
    "    \"Credit-Builder Loan\",\n",
    "    \"Personal Loan\",\n",
    "    \"Debt Consolidation Loan\",\n",
    "    \"Student Loan\",\n",
    "    \"Payday Loan\",\n",
    "    \"Mortgage Loan\",\n",
    "    \"Auto Loan\",\n",
    "    \"Home Equity Loan\",\n",
    "]\n",
    "\n",
    "train_df[\"Type_of_Loan\"].fillna(\"\", inplace=True)\n",
    "for suffix in loan_types:\n",
    "    train_df[\"Type_of_Loan_\" + suffix] = train_df[\"Type_of_Loan\"].apply(\n",
    "        lambda x: suffix in x.split(\", \")\n",
    "    )\n",
    "\n",
    "delete_col([\"Type_of_Loan\"])"
   ]
  },
  {
   "cell_type": "code",
   "execution_count": null,
   "metadata": {},
   "outputs": [],
   "source": [
    "train_df"
   ]
  },
  {
   "cell_type": "code",
   "execution_count": null,
   "metadata": {},
   "outputs": [],
   "source": [
    "categorical_columns = categorical_columns.drop(\"Credit_History_Age\")\n",
    "number_columns = number_columns.append(pd.Index([\"Credit_History_Age\"]))\n",
    "number_columns, categorical_columns"
   ]
  },
  {
   "cell_type": "code",
   "execution_count": null,
   "metadata": {},
   "outputs": [],
   "source": [
    "train_df = pd.get_dummies(\n",
    "    train_df,\n",
    "    columns=[\n",
    "        \"Month\",\n",
    "        \"Occupation\",\n",
    "        \"Credit_Mix\",\n",
    "        \"Payment_of_Min_Amount\",\n",
    "        \"Payment_Behaviour\",\n",
    "        \"Credit_Score\"\n",
    "    ],\n",
    "    drop_first=True,\n",
    ")\n",
    "train_df"
   ]
  },
  {
   "cell_type": "code",
   "execution_count": null,
   "metadata": {},
   "outputs": [],
   "source": [
    "train_df.info()"
   ]
  },
  {
   "cell_type": "code",
   "execution_count": null,
   "metadata": {},
   "outputs": [],
   "source": [
    "from sklearn.impute import KNNImputer\n",
    "\n",
    "knn_imputer = KNNImputer(n_neighbors=2)\n",
    "\n",
    "train_df_knn_imputed = knn_imputer.fit_transform(train_df)"
   ]
  },
  {
   "cell_type": "code",
   "execution_count": null,
   "metadata": {},
   "outputs": [],
   "source": []
  },
  {
   "cell_type": "code",
   "execution_count": null,
   "metadata": {},
   "outputs": [],
   "source": [
    "train_df.describe()"
   ]
  },
  {
   "cell_type": "code",
   "execution_count": null,
   "metadata": {},
   "outputs": [],
   "source": [
    "import seaborn as sns"
   ]
  },
  {
   "cell_type": "markdown",
   "metadata": {},
   "source": [
    "# Baseline"
   ]
  },
  {
   "cell_type": "code",
   "execution_count": null,
   "metadata": {},
   "outputs": [],
   "source": [
    "from sklearn.dummy import DummyClassifier\n",
    "\n",
    "# dummy_classifier = DummyClassifier(random_state=42)\n",
    "\n",
    "# dummy_classifier.fit-"
   ]
  }
 ],
 "metadata": {
  "kernelspec": {
   "display_name": "base",
   "language": "python",
   "name": "python3"
  },
  "language_info": {
   "codemirror_mode": {
    "name": "ipython",
    "version": 3
   },
   "file_extension": ".py",
   "mimetype": "text/x-python",
   "name": "python",
   "nbconvert_exporter": "python",
   "pygments_lexer": "ipython3",
   "version": "3.12.4"
  }
 },
 "nbformat": 4,
 "nbformat_minor": 2
}
